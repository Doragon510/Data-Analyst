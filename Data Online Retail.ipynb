{
 "cells": [
  {
   "cell_type": "markdown",
   "id": "edfe1e0b",
   "metadata": {},
   "source": [
    "# [Bài tập] Phân tích trên bộ dữ liệu Online Retail"
   ]
  },
  {
   "cell_type": "code",
   "execution_count": 4,
   "id": "29d8ff5b",
   "metadata": {},
   "outputs": [
    {
     "name": "stdout",
     "output_type": "stream",
     "text": [
      "<class 'pandas.core.frame.DataFrame'>\n",
      "RangeIndex: 541909 entries, 0 to 541908\n",
      "Data columns (total 8 columns):\n",
      " #   Column       Non-Null Count   Dtype  \n",
      "---  ------       --------------   -----  \n",
      " 0   InvoiceNo    541909 non-null  object \n",
      " 1   StockCode    541909 non-null  object \n",
      " 2   Description  540455 non-null  object \n",
      " 3   Quantity     541909 non-null  int64  \n",
      " 4   InvoiceDate  541909 non-null  object \n",
      " 5   UnitPrice    541909 non-null  float64\n",
      " 6   CustomerID   406829 non-null  float64\n",
      " 7   Country      541909 non-null  object \n",
      "dtypes: float64(2), int64(1), object(5)\n",
      "memory usage: 33.1+ MB\n"
     ]
    }
   ],
   "source": [
    "import pandas as pd\n",
    "data = pd.read_csv('data/OnlineRetail.csv', encoding = \"ISO-8859-1\")\n",
    "data.info()"
   ]
  },
  {
   "cell_type": "code",
   "execution_count": 8,
   "id": "d678850e",
   "metadata": {},
   "outputs": [],
   "source": [
    "demo = data.loc[:,['Description','Quantity']]\n",
    "demo.to_csv('demo_OnlineRetail.csv')"
   ]
  },
  {
   "cell_type": "code",
   "execution_count": 14,
   "id": "2004b129",
   "metadata": {},
   "outputs": [
    {
     "ename": "TypeError",
     "evalue": "'method' object is not subscriptable",
     "output_type": "error",
     "traceback": [
      "\u001b[1;31m---------------------------------------------------------------------------\u001b[0m",
      "\u001b[1;31mTypeError\u001b[0m                                 Traceback (most recent call last)",
      "Input \u001b[1;32mIn [14]\u001b[0m, in \u001b[0;36m<cell line: 2>\u001b[1;34m()\u001b[0m\n\u001b[0;32m      1\u001b[0m demo2 \u001b[38;5;241m=\u001b[39m data\u001b[38;5;241m.\u001b[39miloc[\u001b[38;5;241m0\u001b[39m:\u001b[38;5;241m1000\u001b[39m]\n\u001b[1;32m----> 2\u001b[0m \u001b[43mdemo2\u001b[49m\u001b[38;5;241;43m.\u001b[39;49m\u001b[43mto_excel\u001b[49m\u001b[43m[\u001b[49m\u001b[38;5;124;43m'\u001b[39;49m\u001b[38;5;124;43mdemo_OnlineRetail.xlsx\u001b[39;49m\u001b[38;5;124;43m'\u001b[39;49m\u001b[43m]\u001b[49m\n",
      "\u001b[1;31mTypeError\u001b[0m: 'method' object is not subscriptable"
     ]
    }
   ],
   "source": [
    "demo2 = data.iloc[0:1000]\n",
    "demo2.to_excel['demo_OnlineRetail.xlsx']"
   ]
  },
  {
   "cell_type": "code",
   "execution_count": 19,
   "id": "293cd04e",
   "metadata": {},
   "outputs": [
    {
     "ename": "TypeError",
     "evalue": "'method' object is not subscriptable",
     "output_type": "error",
     "traceback": [
      "\u001b[1;31m---------------------------------------------------------------------------\u001b[0m",
      "\u001b[1;31mTypeError\u001b[0m                                 Traceback (most recent call last)",
      "Input \u001b[1;32mIn [19]\u001b[0m, in \u001b[0;36m<cell line: 2>\u001b[1;34m()\u001b[0m\n\u001b[0;32m      1\u001b[0m demo3 \u001b[38;5;241m=\u001b[39m data\u001b[38;5;241m.\u001b[39mloc[data\u001b[38;5;241m.\u001b[39mQuantity \u001b[38;5;241m>\u001b[39m\u001b[38;5;241m=\u001b[39m \u001b[38;5;241m10\u001b[39m]\n\u001b[1;32m----> 2\u001b[0m \u001b[43mdemo3\u001b[49m\u001b[38;5;241;43m.\u001b[39;49m\u001b[43mto_hdf\u001b[49m\u001b[43m[\u001b[49m\u001b[38;5;124;43m'\u001b[39;49m\u001b[38;5;124;43mdemo_OnlineRetail.h5\u001b[39;49m\u001b[38;5;124;43m'\u001b[39;49m\u001b[43m,\u001b[49m\u001b[38;5;124;43m'\u001b[39;49m\u001b[38;5;124;43mtable\u001b[39;49m\u001b[38;5;124;43m'\u001b[39;49m\u001b[43m]\u001b[49m\n",
      "\u001b[1;31mTypeError\u001b[0m: 'method' object is not subscriptable"
     ]
    }
   ],
   "source": [
    "demo3 = data.loc[data.Quantity >= 10]\n",
    "demo3.to_hdf['demo_OnlineRetail.h5','table']"
   ]
  },
  {
   "cell_type": "code",
   "execution_count": 22,
   "id": "a941dec8",
   "metadata": {},
   "outputs": [],
   "source": [
    "demo4 = data.loc[1000:2000,['Quantity','InvoiceDate','UnitPrice']]\n",
    "demo4.to_json('demo_OnlineRetail.json',orient='columns')"
   ]
  },
  {
   "cell_type": "code",
   "execution_count": 23,
   "id": "8741680b",
   "metadata": {},
   "outputs": [],
   "source": [
    "demo5 = data.loc[data.InvoiceNo == '536365']\n",
    "demo5.to_html('demo_OnlineRetail.html')"
   ]
  }
 ],
 "metadata": {
  "kernelspec": {
   "display_name": "Python 3 (ipykernel)",
   "language": "python",
   "name": "python3"
  },
  "language_info": {
   "codemirror_mode": {
    "name": "ipython",
    "version": 3
   },
   "file_extension": ".py",
   "mimetype": "text/x-python",
   "name": "python",
   "nbconvert_exporter": "python",
   "pygments_lexer": "ipython3",
   "version": "3.10.4"
  }
 },
 "nbformat": 4,
 "nbformat_minor": 5
}
