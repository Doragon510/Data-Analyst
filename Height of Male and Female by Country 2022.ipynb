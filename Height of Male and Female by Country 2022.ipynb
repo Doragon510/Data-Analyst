{
 "cells": [
  {
   "cell_type": "code",
   "execution_count": 3,
   "id": "e6322e10",
   "metadata": {},
   "outputs": [],
   "source": [
    "import pandas as pd"
   ]
  },
  {
   "cell_type": "code",
   "execution_count": 5,
   "id": "311240c5",
   "metadata": {},
   "outputs": [
    {
     "name": "stdout",
     "output_type": "stream",
     "text": [
      "<class 'pandas.core.frame.DataFrame'>\n",
      "RangeIndex: 199 entries, 0 to 198\n",
      "Data columns (total 6 columns):\n",
      " #   Column               Non-Null Count  Dtype  \n",
      "---  ------               --------------  -----  \n",
      " 0   Rank                 199 non-null    int64  \n",
      " 1   Country Name         199 non-null    object \n",
      " 2   Male Height in Cm    199 non-null    float64\n",
      " 3   Female Height in Cm  199 non-null    float64\n",
      " 4   Male Height in Ft    199 non-null    float64\n",
      " 5   Female Height in Ft  199 non-null    float64\n",
      "dtypes: float64(4), int64(1), object(1)\n",
      "memory usage: 9.5+ KB\n"
     ]
    }
   ],
   "source": [
    "data1 = pd.read_csv('data/Height of Male and Female by Country 2022.csv')\n",
    "data1.info()"
   ]
  }
 ],
 "metadata": {
  "kernelspec": {
   "display_name": "Python 3 (ipykernel)",
   "language": "python",
   "name": "python3"
  },
  "language_info": {
   "codemirror_mode": {
    "name": "ipython",
    "version": 3
   },
   "file_extension": ".py",
   "mimetype": "text/x-python",
   "name": "python",
   "nbconvert_exporter": "python",
   "pygments_lexer": "ipython3",
   "version": "3.10.4"
  }
 },
 "nbformat": 4,
 "nbformat_minor": 5
}
