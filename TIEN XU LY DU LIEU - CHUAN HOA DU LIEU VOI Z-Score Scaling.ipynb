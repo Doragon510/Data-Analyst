{
 "cells": [
  {
   "cell_type": "code",
   "execution_count": 1,
   "id": "ab070a42",
   "metadata": {},
   "outputs": [],
   "source": [
    "import pandas as pd\n",
    "import numpy as np\n",
    "import matplotlib.pyplot as plt\n",
    "import seaborn as sns\n",
    "from sklearn.preprocessing import StandardScaler"
   ]
  },
  {
   "cell_type": "code",
   "execution_count": 3,
   "id": "75e0b971",
   "metadata": {},
   "outputs": [],
   "source": [
    "df = pd.DataFrame({ \n",
    "    'beta': np.random.beta(5, 1, 1000) * 60,        # beta\n",
    "    'exponential': np.random.exponential(10, 1000), # exponential\n",
    "    'normal_p': np.random.normal(10, 2, 1000),      # normal platykurtic\n",
    "    'normal_l': np.random.normal(10, 10, 1000),     # normal leptokurtic\n",
    "    })"
   ]
  },
  {
   "cell_type": "code",
   "execution_count": 4,
   "id": "ad0bd6fc",
   "metadata": {},
   "outputs": [],
   "source": [
    "# thêm dữ liệu được tạo theo phân phối nhị thức\n",
    "first_half = np.random.normal(20, 3, 500) \n",
    "second_half = np.random.normal(-20, 3, 500) \n",
    "bimodal = np.concatenate([first_half, second_half])\n",
    "\n",
    "df['bimodal'] = bimodal"
   ]
  },
  {
   "cell_type": "code",
   "execution_count": 5,
   "id": "aa29041e",
   "metadata": {},
   "outputs": [
    {
     "data": {
      "text/html": [
       "<div>\n",
       "<style scoped>\n",
       "    .dataframe tbody tr th:only-of-type {\n",
       "        vertical-align: middle;\n",
       "    }\n",
       "\n",
       "    .dataframe tbody tr th {\n",
       "        vertical-align: top;\n",
       "    }\n",
       "\n",
       "    .dataframe thead th {\n",
       "        text-align: right;\n",
       "    }\n",
       "</style>\n",
       "<table border=\"1\" class=\"dataframe\">\n",
       "  <thead>\n",
       "    <tr style=\"text-align: right;\">\n",
       "      <th></th>\n",
       "      <th>beta</th>\n",
       "      <th>exponential</th>\n",
       "      <th>normal_p</th>\n",
       "      <th>normal_l</th>\n",
       "      <th>bimodal</th>\n",
       "    </tr>\n",
       "  </thead>\n",
       "  <tbody>\n",
       "    <tr>\n",
       "      <th>0</th>\n",
       "      <td>55.653434</td>\n",
       "      <td>14.048762</td>\n",
       "      <td>13.250108</td>\n",
       "      <td>8.471326</td>\n",
       "      <td>22.098581</td>\n",
       "    </tr>\n",
       "    <tr>\n",
       "      <th>1</th>\n",
       "      <td>59.311322</td>\n",
       "      <td>52.055855</td>\n",
       "      <td>11.643497</td>\n",
       "      <td>22.878392</td>\n",
       "      <td>19.479885</td>\n",
       "    </tr>\n",
       "    <tr>\n",
       "      <th>2</th>\n",
       "      <td>53.312423</td>\n",
       "      <td>0.126334</td>\n",
       "      <td>8.943533</td>\n",
       "      <td>2.509256</td>\n",
       "      <td>18.001077</td>\n",
       "    </tr>\n",
       "    <tr>\n",
       "      <th>3</th>\n",
       "      <td>40.149993</td>\n",
       "      <td>0.558892</td>\n",
       "      <td>12.116924</td>\n",
       "      <td>0.252787</td>\n",
       "      <td>20.111686</td>\n",
       "    </tr>\n",
       "    <tr>\n",
       "      <th>4</th>\n",
       "      <td>57.595509</td>\n",
       "      <td>7.878563</td>\n",
       "      <td>10.365846</td>\n",
       "      <td>15.403478</td>\n",
       "      <td>16.680071</td>\n",
       "    </tr>\n",
       "  </tbody>\n",
       "</table>\n",
       "</div>"
      ],
      "text/plain": [
       "        beta  exponential   normal_p   normal_l    bimodal\n",
       "0  55.653434    14.048762  13.250108   8.471326  22.098581\n",
       "1  59.311322    52.055855  11.643497  22.878392  19.479885\n",
       "2  53.312423     0.126334   8.943533   2.509256  18.001077\n",
       "3  40.149993     0.558892  12.116924   0.252787  20.111686\n",
       "4  57.595509     7.878563  10.365846  15.403478  16.680071"
      ]
     },
     "execution_count": 5,
     "metadata": {},
     "output_type": "execute_result"
    }
   ],
   "source": [
    "df.head()"
   ]
  },
  {
   "cell_type": "code",
   "execution_count": 6,
   "id": "2c53cf34",
   "metadata": {},
   "outputs": [
    {
     "data": {
      "text/plain": [
       "<AxesSubplot: ylabel='Density'>"
      ]
     },
     "execution_count": 6,
     "metadata": {},
     "output_type": "execute_result"
    },
    {
     "data": {
      "image/png": "[encoded data removed]",
      "text/plain": [
       "<Figure size 432x288 with 1 Axes>"
      ]
     },
     "metadata": {
      "needs_background": "light"
     },
     "output_type": "display_data"
    }
   ],
   "source": [
    "sns.kdeplot(data=df)"
   ]
  },
  {
   "cell_type": "code",
   "execution_count": 7,
   "id": "e52c3b10",
   "metadata": {},
   "outputs": [
    {
     "data": {
      "text/html": [
       "<div>\n",
       "<style scoped>\n",
       "    .dataframe tbody tr th:only-of-type {\n",
       "        vertical-align: middle;\n",
       "    }\n",
       "\n",
       "    .dataframe tbody tr th {\n",
       "        vertical-align: top;\n",
       "    }\n",
       "\n",
       "    .dataframe thead th {\n",
       "        text-align: right;\n",
       "    }\n",
       "</style>\n",
       "<table border=\"1\" class=\"dataframe\">\n",
       "  <thead>\n",
       "    <tr style=\"text-align: right;\">\n",
       "      <th></th>\n",
       "      <th>beta</th>\n",
       "      <th>exponential</th>\n",
       "      <th>normal_p</th>\n",
       "      <th>normal_l</th>\n",
       "      <th>bimodal</th>\n",
       "    </tr>\n",
       "  </thead>\n",
       "  <tbody>\n",
       "    <tr>\n",
       "      <th>count</th>\n",
       "      <td>1000.000000</td>\n",
       "      <td>1000.000000</td>\n",
       "      <td>1000.000000</td>\n",
       "      <td>1000.000000</td>\n",
       "      <td>1000.000000</td>\n",
       "    </tr>\n",
       "    <tr>\n",
       "      <th>mean</th>\n",
       "      <td>50.326858</td>\n",
       "      <td>9.388270</td>\n",
       "      <td>10.049726</td>\n",
       "      <td>9.740965</td>\n",
       "      <td>0.117917</td>\n",
       "    </tr>\n",
       "    <tr>\n",
       "      <th>std</th>\n",
       "      <td>8.315866</td>\n",
       "      <td>9.771612</td>\n",
       "      <td>1.943283</td>\n",
       "      <td>9.976327</td>\n",
       "      <td>20.135938</td>\n",
       "    </tr>\n",
       "    <tr>\n",
       "      <th>min</th>\n",
       "      <td>9.755291</td>\n",
       "      <td>0.001371</td>\n",
       "      <td>3.983029</td>\n",
       "      <td>-20.976269</td>\n",
       "      <td>-30.960071</td>\n",
       "    </tr>\n",
       "    <tr>\n",
       "      <th>25%</th>\n",
       "      <td>45.611093</td>\n",
       "      <td>2.515010</td>\n",
       "      <td>8.711722</td>\n",
       "      <td>2.979386</td>\n",
       "      <td>-19.686548</td>\n",
       "    </tr>\n",
       "    <tr>\n",
       "      <th>50%</th>\n",
       "      <td>52.404651</td>\n",
       "      <td>6.425350</td>\n",
       "      <td>10.010626</td>\n",
       "      <td>9.787799</td>\n",
       "      <td>-0.992875</td>\n",
       "    </tr>\n",
       "    <tr>\n",
       "      <th>75%</th>\n",
       "      <td>56.850583</td>\n",
       "      <td>12.405591</td>\n",
       "      <td>11.348607</td>\n",
       "      <td>16.432735</td>\n",
       "      <td>20.008128</td>\n",
       "    </tr>\n",
       "    <tr>\n",
       "      <th>max</th>\n",
       "      <td>59.985876</td>\n",
       "      <td>73.558611</td>\n",
       "      <td>15.782411</td>\n",
       "      <td>42.148281</td>\n",
       "      <td>28.709592</td>\n",
       "    </tr>\n",
       "  </tbody>\n",
       "</table>\n",
       "</div>"
      ],
      "text/plain": [
       "              beta  exponential     normal_p     normal_l      bimodal\n",
       "count  1000.000000  1000.000000  1000.000000  1000.000000  1000.000000\n",
       "mean     50.326858     9.388270    10.049726     9.740965     0.117917\n",
       "std       8.315866     9.771612     1.943283     9.976327    20.135938\n",
       "min       9.755291     0.001371     3.983029   -20.976269   -30.960071\n",
       "25%      45.611093     2.515010     8.711722     2.979386   -19.686548\n",
       "50%      52.404651     6.425350    10.010626     9.787799    -0.992875\n",
       "75%      56.850583    12.405591    11.348607    16.432735    20.008128\n",
       "max      59.985876    73.558611    15.782411    42.148281    28.709592"
      ]
     },
     "execution_count": 7,
     "metadata": {},
     "output_type": "execute_result"
    }
   ],
   "source": [
    "df.describe()"
   ]
  },
  {
   "cell_type": "code",
   "execution_count": 8,
   "id": "faf2c33a",
   "metadata": {},
   "outputs": [
    {
     "data": {
      "text/plain": [
       "<AxesSubplot: ylabel='Density'>"
      ]
     },
     "execution_count": 8,
     "metadata": {},
     "output_type": "execute_result"
    },
    {
     "data": {
      "image/png": "[encoded data removed]",
      "text/plain": [
       "<Figure size 432x288 with 1 Axes>"
      ]
     },
     "metadata": {
      "needs_background": "light"
     },
     "output_type": "display_data"
    }
   ],
   "source": [
    "normal_big = np.random.normal(1000000, 10000, (1000,1))  # normal distribution of large values\n",
    "df['normal_big'] = normal_big\n",
    "sns.kdeplot(data=df)"
   ]
  },
  {
   "cell_type": "code",
   "execution_count": 9,
   "id": "32a2e5f4",
   "metadata": {},
   "outputs": [
    {
     "data": {
      "text/plain": [
       "<AxesSubplot: >"
      ]
     },
     "execution_count": 9,
     "metadata": {},
     "output_type": "execute_result"
    },
    {
     "data": {
      "image/png": "[encoded data removed]",
      "text/plain": [
       "<Figure size 432x288 with 1 Axes>"
      ]
     },
     "metadata": {
      "needs_background": "light"
     },
     "output_type": "display_data"
    }
   ],
   "source": [
    "# trực quan hóa bằng biểu đồ box plot\n",
    "df.boxplot()"
   ]
  },
  {
   "cell_type": "code",
   "execution_count": 10,
   "id": "0a301d60",
   "metadata": {},
   "outputs": [],
   "source": [
    "# Khai báo đối tượng StandardScaler\n",
    "s_scaler = StandardScaler()"
   ]
  },
  {
   "cell_type": "code",
   "execution_count": 11,
   "id": "a466bf88",
   "metadata": {},
   "outputs": [],
   "source": [
    "# Chuẩn hóa dữ liệu trong df với StandardScaler\n",
    "df_s = s_scaler.fit_transform(df)\n",
    "\n",
    "# lấy danh sáchc cột\n",
    "col_names = list(df.columns)\n",
    "\n",
    "# chuyển về DataFrame, gán các cột của df cho dữ liệu đã được chuẩn hóa\n",
    "df_s = pd.DataFrame(df_s, columns=col_names)"
   ]
  },
  {
   "cell_type": "code",
   "execution_count": 12,
   "id": "451861c6",
   "metadata": {},
   "outputs": [
    {
     "data": {
      "text/html": [
       "<div>\n",
       "<style scoped>\n",
       "    .dataframe tbody tr th:only-of-type {\n",
       "        vertical-align: middle;\n",
       "    }\n",
       "\n",
       "    .dataframe tbody tr th {\n",
       "        vertical-align: top;\n",
       "    }\n",
       "\n",
       "    .dataframe thead th {\n",
       "        text-align: right;\n",
       "    }\n",
       "</style>\n",
       "<table border=\"1\" class=\"dataframe\">\n",
       "  <thead>\n",
       "    <tr style=\"text-align: right;\">\n",
       "      <th></th>\n",
       "      <th>beta</th>\n",
       "      <th>exponential</th>\n",
       "      <th>normal_p</th>\n",
       "      <th>normal_l</th>\n",
       "      <th>bimodal</th>\n",
       "      <th>normal_big</th>\n",
       "    </tr>\n",
       "  </thead>\n",
       "  <tbody>\n",
       "    <tr>\n",
       "      <th>0</th>\n",
       "      <td>0.640852</td>\n",
       "      <td>0.477181</td>\n",
       "      <td>1.647719</td>\n",
       "      <td>-0.127329</td>\n",
       "      <td>1.092160</td>\n",
       "      <td>0.482720</td>\n",
       "    </tr>\n",
       "    <tr>\n",
       "      <th>1</th>\n",
       "      <td>1.080941</td>\n",
       "      <td>4.368668</td>\n",
       "      <td>0.820554</td>\n",
       "      <td>1.317519</td>\n",
       "      <td>0.962044</td>\n",
       "      <td>1.497245</td>\n",
       "    </tr>\n",
       "    <tr>\n",
       "      <th>2</th>\n",
       "      <td>0.359200</td>\n",
       "      <td>-0.948315</td>\n",
       "      <td>-0.569524</td>\n",
       "      <td>-0.725250</td>\n",
       "      <td>0.888566</td>\n",
       "      <td>-0.337858</td>\n",
       "    </tr>\n",
       "    <tr>\n",
       "      <th>3</th>\n",
       "      <td>-1.224401</td>\n",
       "      <td>-0.904026</td>\n",
       "      <td>1.064298</td>\n",
       "      <td>-0.951545</td>\n",
       "      <td>0.993436</td>\n",
       "      <td>-0.364994</td>\n",
       "    </tr>\n",
       "    <tr>\n",
       "      <th>4</th>\n",
       "      <td>0.874508</td>\n",
       "      <td>-0.154577</td>\n",
       "      <td>0.162754</td>\n",
       "      <td>0.567879</td>\n",
       "      <td>0.822929</td>\n",
       "      <td>-1.035727</td>\n",
       "    </tr>\n",
       "  </tbody>\n",
       "</table>\n",
       "</div>"
      ],
      "text/plain": [
       "       beta  exponential  normal_p  normal_l   bimodal  normal_big\n",
       "0  0.640852     0.477181  1.647719 -0.127329  1.092160    0.482720\n",
       "1  1.080941     4.368668  0.820554  1.317519  0.962044    1.497245\n",
       "2  0.359200    -0.948315 -0.569524 -0.725250  0.888566   -0.337858\n",
       "3 -1.224401    -0.904026  1.064298 -0.951545  0.993436   -0.364994\n",
       "4  0.874508    -0.154577  0.162754  0.567879  0.822929   -1.035727"
      ]
     },
     "execution_count": 12,
     "metadata": {},
     "output_type": "execute_result"
    }
   ],
   "source": [
    "df_s.head()"
   ]
  },
  {
   "cell_type": "code",
   "execution_count": 13,
   "id": "16422a1e",
   "metadata": {},
   "outputs": [
    {
     "data": {
      "text/plain": [
       "<AxesSubplot: ylabel='Density'>"
      ]
     },
     "execution_count": 13,
     "metadata": {},
     "output_type": "execute_result"
    },
    {
     "data": {
      "image/png": "[encoded data removed]",
      "text/plain": [
       "<Figure size 432x288 with 1 Axes>"
      ]
     },
     "metadata": {
      "needs_background": "light"
     },
     "output_type": "display_data"
    }
   ],
   "source": [
    "# biểu diễn dữ liệu đã được chuẩn hóa\n",
    "sns.kdeplot(data=df_s)"
   ]
  },
  {
   "cell_type": "code",
   "execution_count": 14,
   "id": "b90c6139",
   "metadata": {},
   "outputs": [
    {
     "data": {
      "text/html": [
       "<div>\n",
       "<style scoped>\n",
       "    .dataframe tbody tr th:only-of-type {\n",
       "        vertical-align: middle;\n",
       "    }\n",
       "\n",
       "    .dataframe tbody tr th {\n",
       "        vertical-align: top;\n",
       "    }\n",
       "\n",
       "    .dataframe thead th {\n",
       "        text-align: right;\n",
       "    }\n",
       "</style>\n",
       "<table border=\"1\" class=\"dataframe\">\n",
       "  <thead>\n",
       "    <tr style=\"text-align: right;\">\n",
       "      <th></th>\n",
       "      <th>beta</th>\n",
       "      <th>exponential</th>\n",
       "      <th>normal_p</th>\n",
       "      <th>normal_l</th>\n",
       "      <th>bimodal</th>\n",
       "      <th>normal_big</th>\n",
       "    </tr>\n",
       "  </thead>\n",
       "  <tbody>\n",
       "    <tr>\n",
       "      <th>count</th>\n",
       "      <td>1.000000e+03</td>\n",
       "      <td>1.000000e+03</td>\n",
       "      <td>1.000000e+03</td>\n",
       "      <td>1.000000e+03</td>\n",
       "      <td>1.000000e+03</td>\n",
       "      <td>1.000000e+03</td>\n",
       "    </tr>\n",
       "    <tr>\n",
       "      <th>mean</th>\n",
       "      <td>2.131628e-16</td>\n",
       "      <td>7.460699e-17</td>\n",
       "      <td>7.167600e-16</td>\n",
       "      <td>5.684342e-17</td>\n",
       "      <td>-1.136868e-16</td>\n",
       "      <td>4.344969e-15</td>\n",
       "    </tr>\n",
       "    <tr>\n",
       "      <th>std</th>\n",
       "      <td>1.000500e+00</td>\n",
       "      <td>1.000500e+00</td>\n",
       "      <td>1.000500e+00</td>\n",
       "      <td>1.000500e+00</td>\n",
       "      <td>1.000500e+00</td>\n",
       "      <td>1.000500e+00</td>\n",
       "    </tr>\n",
       "    <tr>\n",
       "      <th>min</th>\n",
       "      <td>-4.881256e+00</td>\n",
       "      <td>-9.611102e-01</td>\n",
       "      <td>-3.123443e+00</td>\n",
       "      <td>-3.080553e+00</td>\n",
       "      <td>-1.544181e+00</td>\n",
       "      <td>-2.709100e+00</td>\n",
       "    </tr>\n",
       "    <tr>\n",
       "      <th>25%</th>\n",
       "      <td>-5.673643e-01</td>\n",
       "      <td>-7.037426e-01</td>\n",
       "      <td>-6.888719e-01</td>\n",
       "      <td>-6.781015e-01</td>\n",
       "      <td>-9.840304e-01</td>\n",
       "      <td>-7.039268e-01</td>\n",
       "    </tr>\n",
       "    <tr>\n",
       "      <th>50%</th>\n",
       "      <td>2.499839e-01</td>\n",
       "      <td>-3.033689e-01</td>\n",
       "      <td>-2.013051e-02</td>\n",
       "      <td>4.696822e-03</td>\n",
       "      <td>-5.519225e-02</td>\n",
       "      <td>-2.319444e-02</td>\n",
       "    </tr>\n",
       "    <tr>\n",
       "      <th>75%</th>\n",
       "      <td>7.848839e-01</td>\n",
       "      <td>3.089389e-01</td>\n",
       "      <td>6.687296e-01</td>\n",
       "      <td>6.711006e-01</td>\n",
       "      <td>9.882909e-01</td>\n",
       "      <td>7.005002e-01</td>\n",
       "    </tr>\n",
       "    <tr>\n",
       "      <th>max</th>\n",
       "      <td>1.162098e+00</td>\n",
       "      <td>6.570302e+00</td>\n",
       "      <td>2.951476e+00</td>\n",
       "      <td>3.250047e+00</td>\n",
       "      <td>1.420643e+00</td>\n",
       "      <td>3.217212e+00</td>\n",
       "    </tr>\n",
       "  </tbody>\n",
       "</table>\n",
       "</div>"
      ],
      "text/plain": [
       "               beta   exponential      normal_p      normal_l       bimodal  \\\n",
       "count  1.000000e+03  1.000000e+03  1.000000e+03  1.000000e+03  1.000000e+03   \n",
       "mean   2.131628e-16  7.460699e-17  7.167600e-16  5.684342e-17 -1.136868e-16   \n",
       "std    1.000500e+00  1.000500e+00  1.000500e+00  1.000500e+00  1.000500e+00   \n",
       "min   -4.881256e+00 -9.611102e-01 -3.123443e+00 -3.080553e+00 -1.544181e+00   \n",
       "25%   -5.673643e-01 -7.037426e-01 -6.888719e-01 -6.781015e-01 -9.840304e-01   \n",
       "50%    2.499839e-01 -3.033689e-01 -2.013051e-02  4.696822e-03 -5.519225e-02   \n",
       "75%    7.848839e-01  3.089389e-01  6.687296e-01  6.711006e-01  9.882909e-01   \n",
       "max    1.162098e+00  6.570302e+00  2.951476e+00  3.250047e+00  1.420643e+00   \n",
       "\n",
       "         normal_big  \n",
       "count  1.000000e+03  \n",
       "mean   4.344969e-15  \n",
       "std    1.000500e+00  \n",
       "min   -2.709100e+00  \n",
       "25%   -7.039268e-01  \n",
       "50%   -2.319444e-02  \n",
       "75%    7.005002e-01  \n",
       "max    3.217212e+00  "
      ]
     },
     "execution_count": 14,
     "metadata": {},
     "output_type": "execute_result"
    }
   ],
   "source": [
    "df_s.describe()"
   ]
  },
  {
   "cell_type": "code",
   "execution_count": 15,
   "id": "2ff3b132",
   "metadata": {},
   "outputs": [
    {
     "data": {
      "text/plain": [
       "<AxesSubplot: >"
      ]
     },
     "execution_count": 15,
     "metadata": {},
     "output_type": "execute_result"
    },
    {
     "data": {
      "image/png": "[encoded data removed]",
      "text/plain": [
       "<Figure size 432x288 with 1 Axes>"
      ]
     },
     "metadata": {
      "needs_background": "light"
     },
     "output_type": "display_data"
    }
   ],
   "source": [
    "df_s.boxplot()"
   ]
  }
 ],
 "metadata": {
  "kernelspec": {
   "display_name": "Python 3 (ipykernel)",
   "language": "python",
   "name": "python3"
  },
  "language_info": {
   "codemirror_mode": {
    "name": "ipython",
    "version": 3
   },
   "file_extension": ".py",
   "mimetype": "text/x-python",
   "name": "python",
   "nbconvert_exporter": "python",
   "pygments_lexer": "ipython3",
   "version": "3.10.4"
  }
 },
 "nbformat": 4,
 "nbformat_minor": 5
}
